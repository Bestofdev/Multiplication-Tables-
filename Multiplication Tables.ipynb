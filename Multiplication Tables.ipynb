{
 "cells": [
  {
   "cell_type": "code",
   "execution_count": null,
   "metadata": {
    "scrolled": true
   },
   "outputs": [],
   "source": [
    "#number= Number of multiplication table(integer)\n",
    "number=int(input('Enter the Number of multiplication table: '))\n",
    "\n",
    "#multiplier (integer)\n",
    "multipliers=int(input('Enter the Maximum Number of multiplier: ') )\n",
    "\n",
    "len_of_muliplier=len(str(multipliers))\n",
    "maxresult_length=len(str(multipliers*number))\n",
    "\n",
    "for multiplier in range(1,multipliers+1):\n",
    "    multiplier_str=str(multiplier).rjust(len_of_muliplier,' ')\n",
    "    result=str(multiplier*number)\n",
    "    print( number , \"*\" , multiplier_str , \"=\" , result.rjust(maxresult_length,' ') )"
   ]
  },
  {
   "cell_type": "code",
   "execution_count": null,
   "metadata": {},
   "outputs": [],
   "source": []
  },
  {
   "cell_type": "code",
   "execution_count": null,
   "metadata": {},
   "outputs": [],
   "source": []
  }
 ],
 "metadata": {
  "kernelspec": {
   "display_name": "Python 3",
   "language": "python",
   "name": "python3"
  },
  "language_info": {
   "codemirror_mode": {
    "name": "ipython",
    "version": 3
   },
   "file_extension": ".py",
   "mimetype": "text/x-python",
   "name": "python",
   "nbconvert_exporter": "python",
   "pygments_lexer": "ipython3",
   "version": "3.8.5"
  }
 },
 "nbformat": 4,
 "nbformat_minor": 4
}
